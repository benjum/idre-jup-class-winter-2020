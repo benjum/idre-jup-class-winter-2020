{
 "cells": [
  {
   "cell_type": "markdown",
   "metadata": {
    "slideshow": {
     "slide_type": "slide"
    }
   },
   "source": [
    "# A sine wave"
   ]
  },
  {
   "cell_type": "code",
   "execution_count": null,
   "metadata": {
    "slideshow": {
     "slide_type": "slide"
    }
   },
   "outputs": [],
   "source": [
    "import numpy as np\n",
    "import matplotlib.pyplot as plt\n",
    "import ipywidgets"
   ]
  },
  {
   "cell_type": "markdown",
   "metadata": {
    "slideshow": {
     "slide_type": "slide"
    }
   },
   "source": [
    "The basic functional form for a sine wave is:\n",
    "\n",
    "$$y(x) = A \\sin(k x)$$\n",
    "\n",
    "where:\n",
    "* A - amplitude\n",
    "* k - wavenumber\n",
    "* x - position\n",
    "* y - wave amplitude as a function of position and wavenumber"
   ]
  },
  {
   "cell_type": "code",
   "execution_count": null,
   "metadata": {
    "slideshow": {
     "slide_type": "slide"
    }
   },
   "outputs": [],
   "source": [
    "from IPython.display import HTML\n",
    "HTML('<img src=\"ComplexSinInATimeAxe.gif\" width=200>')"
   ]
  },
  {
   "cell_type": "code",
   "execution_count": null,
   "metadata": {
    "slideshow": {
     "slide_type": "slide"
    }
   },
   "outputs": [],
   "source": [
    "def plotsin(A=1,k=1):\n",
    "    x = np.linspace(0, 2*np.pi, 1000)\n",
    "    y = A*np.sin(k*x)\n",
    "    plt.plot(x,y)\n",
    "    plt.ylim(-20,20)\n",
    "\n",
    "ipywidgets.interact(plotsin, A=(0,20), k=5);"
   ]
  }
 ],
 "metadata": {
  "kernelspec": {
   "display_name": "Python 3",
   "language": "python",
   "name": "python3"
  },
  "language_info": {
   "codemirror_mode": {
    "name": "ipython",
    "version": 3
   },
   "file_extension": ".py",
   "mimetype": "text/x-python",
   "name": "python",
   "nbconvert_exporter": "python",
   "pygments_lexer": "ipython3",
   "version": "3.7.3"
  },
  "widgets": {
   "application/vnd.jupyter.widget-state+json": {
    "state": {
     "1df923607a2c49cf93f5cdf3548eb115": {
      "model_module": "@jupyter-widgets/base",
      "model_module_version": "1.1.0",
      "model_name": "LayoutModel",
      "state": {}
     },
     "6526206a372c4f44b047b97a7b668938": {
      "model_module": "@jupyter-widgets/controls",
      "model_module_version": "1.4.0",
      "model_name": "SliderStyleModel",
      "state": {
       "description_width": ""
      }
     },
     "7572baefe32d4503bebbc049958f0997": {
      "model_module": "@jupyter-widgets/controls",
      "model_module_version": "1.4.0",
      "model_name": "SliderStyleModel",
      "state": {
       "description_width": ""
      }
     },
     "7b038e1240de44238319c0bb543c4478": {
      "model_module": "@jupyter-widgets/base",
      "model_module_version": "1.1.0",
      "model_name": "LayoutModel",
      "state": {}
     },
     "9ab3bb5834474b58bc6a16025fe0792a": {
      "model_module": "@jupyter-widgets/output",
      "model_module_version": "1.0.0",
      "model_name": "OutputModel",
      "state": {
       "layout": "IPY_MODEL_af890c69b91f47769600bd667963b125",
       "outputs": [
        {
         "data": {
          "image/png": "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\n",
          "text/plain": "<Figure size 432x288 with 1 Axes>"
         },
         "metadata": {
          "needs_background": "light"
         },
         "output_type": "display_data"
        }
       ]
      }
     },
     "ab58b839e0d8410fb57dd812d3c642c3": {
      "model_module": "@jupyter-widgets/controls",
      "model_module_version": "1.4.0",
      "model_name": "VBoxModel",
      "state": {
       "_dom_classes": [
        "widget-interact"
       ],
       "children": [
        "IPY_MODEL_e2ea4fc927d74e30b9892730da4ef78d",
        "IPY_MODEL_bef9c025c0b24beaa37b4b77982c048d",
        "IPY_MODEL_9ab3bb5834474b58bc6a16025fe0792a"
       ],
       "layout": "IPY_MODEL_1df923607a2c49cf93f5cdf3548eb115"
      }
     },
     "af890c69b91f47769600bd667963b125": {
      "model_module": "@jupyter-widgets/base",
      "model_module_version": "1.1.0",
      "model_name": "LayoutModel",
      "state": {}
     },
     "b479eefdd00a42a28237148ade073c4e": {
      "model_module": "@jupyter-widgets/base",
      "model_module_version": "1.1.0",
      "model_name": "LayoutModel",
      "state": {}
     },
     "bef9c025c0b24beaa37b4b77982c048d": {
      "model_module": "@jupyter-widgets/controls",
      "model_module_version": "1.4.0",
      "model_name": "IntSliderModel",
      "state": {
       "description": "k",
       "layout": "IPY_MODEL_b479eefdd00a42a28237148ade073c4e",
       "max": 15,
       "min": -5,
       "style": "IPY_MODEL_7572baefe32d4503bebbc049958f0997",
       "value": 5
      }
     },
     "e2ea4fc927d74e30b9892730da4ef78d": {
      "model_module": "@jupyter-widgets/controls",
      "model_module_version": "1.4.0",
      "model_name": "IntSliderModel",
      "state": {
       "description": "A",
       "layout": "IPY_MODEL_7b038e1240de44238319c0bb543c4478",
       "max": 20,
       "style": "IPY_MODEL_6526206a372c4f44b047b97a7b668938",
       "value": 14
      }
     }
    },
    "version_major": 2,
    "version_minor": 0
   }
  }
 },
 "nbformat": 4,
 "nbformat_minor": 2
}
