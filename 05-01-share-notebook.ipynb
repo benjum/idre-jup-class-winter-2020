{
 "cells": [
  {
   "cell_type": "markdown",
   "metadata": {},
   "source": [
    "# Sharing notebooks\n",
    "\n",
    "We're going to be \"cheating\" a little bit here and executing shell commands inside the notebook.  Normally these are most naturally handled in a Terminal outside of the notebook."
   ]
  },
  {
   "cell_type": "markdown",
   "metadata": {},
   "source": [
    "## First, outputting notebooks to shareable formats"
   ]
  },
  {
   "cell_type": "code",
   "execution_count": 8,
   "metadata": {},
   "outputs": [
    {
     "name": "stdout",
     "output_type": "stream",
     "text": [
      "[NbConvertApp] Converting notebook stock-to-print.ipynb to html\n",
      "[NbConvertApp] Writing 300299 bytes to stock-to-print.html\n"
     ]
    }
   ],
   "source": [
    "!jupyter nbconvert --to html 04-stock-to-print.ipynb"
   ]
  },
  {
   "cell_type": "code",
   "execution_count": null,
   "metadata": {},
   "outputs": [],
   "source": []
  },
  {
   "cell_type": "code",
   "execution_count": null,
   "metadata": {},
   "outputs": [],
   "source": []
  },
  {
   "cell_type": "code",
   "execution_count": 9,
   "metadata": {},
   "outputs": [
    {
     "name": "stdout",
     "output_type": "stream",
     "text": [
      "Input Notebook:  stock-to-print.ipynb\n",
      "Output Notebook: stock-to-print-2000.ipynb\n",
      "Executing: 100%|████████████████████████████████| 6/6 [00:01<00:00,  1.36cell/s]\n"
     ]
    }
   ],
   "source": [
    "!papermill 04-stock-to-print.ipynb stock-to-print-2000.ipynb -p start '01/01/2000' -p end '/01/01/2001'"
   ]
  },
  {
   "cell_type": "code",
   "execution_count": null,
   "metadata": {},
   "outputs": [],
   "source": []
  },
  {
   "cell_type": "code",
   "execution_count": null,
   "metadata": {},
   "outputs": [],
   "source": []
  },
  {
   "cell_type": "code",
   "execution_count": null,
   "metadata": {},
   "outputs": [],
   "source": []
  },
  {
   "cell_type": "code",
   "execution_count": null,
   "metadata": {},
   "outputs": [],
   "source": []
  },
  {
   "cell_type": "markdown",
   "metadata": {},
   "source": [
    "## Second:  sharing online"
   ]
  },
  {
   "cell_type": "code",
   "execution_count": 2,
   "metadata": {},
   "outputs": [
    {
     "name": "stdout",
     "output_type": "stream",
     "text": [
      "/home/jovyan/work/idre-jup-adv-winter-2020/workshop2print\r\n"
     ]
    }
   ],
   "source": [
    "# double-check that your current working directory is '/home/jovyan/work/idre-jup-class-winter-2020'\n",
    "!pwd"
   ]
  },
  {
   "cell_type": "code",
   "execution_count": 5,
   "metadata": {},
   "outputs": [],
   "source": [
    "# take care of some settings\n",
    "# change these to your values\n",
    "myuseremail = 'bwinjum@ucla.edu'\n",
    "myname = 'Ben Winjum'\n",
    "\n",
    "!git config --global user.email $myuseremail\n",
    "!git config --global user.name $myname"
   ]
  },
  {
   "cell_type": "markdown",
   "metadata": {},
   "source": [
    "### before doing the next step, make a new repository on GitHub"
   ]
  },
  {
   "cell_type": "code",
   "execution_count": 6,
   "metadata": {},
   "outputs": [
    {
     "name": "stdout",
     "output_type": "stream",
     "text": [
      "Reinitialized existing Git repository in /home/jovyan/work/idre-jup-adv-winter-2020/workshop2print/.git/\r\n"
     ]
    }
   ],
   "source": [
    "!git init"
   ]
  },
  {
   "cell_type": "code",
   "execution_count": 7,
   "metadata": {},
   "outputs": [],
   "source": [
    "!git add *"
   ]
  },
  {
   "cell_type": "code",
   "execution_count": null,
   "metadata": {},
   "outputs": [],
   "source": [
    "!git commit -m \"first commit\""
   ]
  },
  {
   "cell_type": "code",
   "execution_count": null,
   "metadata": {},
   "outputs": [],
   "source": [
    "# you should replace 'https://github.com/benjum/NA.git' with your repo\n",
    "!git remote add origin https://github.com/benjum/NA.git"
   ]
  },
  {
   "cell_type": "code",
   "execution_count": null,
   "metadata": {},
   "outputs": [],
   "source": [
    "# this one we should do in the terminal, since we won't be setting password access here\n",
    "# !git push -u origin master"
   ]
  }
 ],
 "metadata": {
  "kernelspec": {
   "display_name": "Python 3",
   "language": "python",
   "name": "python3"
  },
  "language_info": {
   "codemirror_mode": {
    "name": "ipython",
    "version": 3
   },
   "file_extension": ".py",
   "mimetype": "text/x-python",
   "name": "python",
   "nbconvert_exporter": "python",
   "pygments_lexer": "ipython3",
   "version": "3.7.3"
  }
 },
 "nbformat": 4,
 "nbformat_minor": 2
}
